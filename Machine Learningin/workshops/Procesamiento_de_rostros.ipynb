{
  "nbformat": 4,
  "nbformat_minor": 0,
  "metadata": {
    "colab": {
      "provenance": []
    },
    "kernelspec": {
      "name": "python3",
      "display_name": "Python 3"
    },
    "language_info": {
      "name": "python"
    },
    "widgets": {
      "application/vnd.jupyter.widget-state+json": {
        "ef9ce15e267246ffb8929ce38e8cbe5e": {
          "model_module": "@jupyter-widgets/controls",
          "model_name": "FileUploadModel",
          "model_module_version": "2.0.0",
          "state": {
            "_dom_classes": [],
            "_model_module": "@jupyter-widgets/controls",
            "_model_module_version": "2.0.0",
            "_model_name": "FileUploadModel",
            "_view_count": null,
            "_view_module": "@jupyter-widgets/controls",
            "_view_module_version": "2.0.0",
            "_view_name": "FileUploadView",
            "accept": "image/*",
            "button_style": "",
            "description": "Upload",
            "description_allow_html": false,
            "disabled": false,
            "error": "",
            "icon": "upload",
            "layout": "IPY_MODEL_11275763cc0842e7940977a84c0f78fb",
            "multiple": false,
            "style": "IPY_MODEL_797fbf156d2748a2919c5937b1b8d21f",
            "tabbable": null,
            "tooltip": null,
            "value": [],
            "_counter": 1,
            "metadata": [
              {
                "name": "filtros.png",
                "type": "image/png",
                "size": 777959,
                "lastModified": 1730252338501
              }
            ],
            "data": [
              null
            ]
          }
        },
        "11275763cc0842e7940977a84c0f78fb": {
          "model_module": "@jupyter-widgets/base",
          "model_name": "LayoutModel",
          "model_module_version": "2.0.0",
          "state": {
            "_model_module": "@jupyter-widgets/base",
            "_model_module_version": "2.0.0",
            "_model_name": "LayoutModel",
            "_view_count": null,
            "_view_module": "@jupyter-widgets/base",
            "_view_module_version": "2.0.0",
            "_view_name": "LayoutView",
            "align_content": null,
            "align_items": null,
            "align_self": null,
            "border_bottom": null,
            "border_left": null,
            "border_right": null,
            "border_top": null,
            "bottom": null,
            "display": null,
            "flex": null,
            "flex_flow": null,
            "grid_area": null,
            "grid_auto_columns": null,
            "grid_auto_flow": null,
            "grid_auto_rows": null,
            "grid_column": null,
            "grid_gap": null,
            "grid_row": null,
            "grid_template_areas": null,
            "grid_template_columns": null,
            "grid_template_rows": null,
            "height": null,
            "justify_content": null,
            "justify_items": null,
            "left": null,
            "margin": null,
            "max_height": null,
            "max_width": null,
            "min_height": null,
            "min_width": null,
            "object_fit": null,
            "object_position": null,
            "order": null,
            "overflow": null,
            "padding": null,
            "right": null,
            "top": null,
            "visibility": null,
            "width": null
          }
        },
        "797fbf156d2748a2919c5937b1b8d21f": {
          "model_module": "@jupyter-widgets/controls",
          "model_name": "ButtonStyleModel",
          "model_module_version": "2.0.0",
          "state": {
            "_model_module": "@jupyter-widgets/controls",
            "_model_module_version": "2.0.0",
            "_model_name": "ButtonStyleModel",
            "_view_count": null,
            "_view_module": "@jupyter-widgets/base",
            "_view_module_version": "2.0.0",
            "_view_name": "StyleView",
            "button_color": null,
            "font_family": null,
            "font_size": null,
            "font_style": null,
            "font_variant": null,
            "font_weight": null,
            "text_color": null,
            "text_decoration": null
          }
        },
        "2dd0c2a63b424706a1e969c2cb3aa1ef": {
          "model_module": "@jupyter-widgets/controls",
          "model_name": "DropdownModel",
          "model_module_version": "2.0.0",
          "state": {
            "_dom_classes": [],
            "_model_module": "@jupyter-widgets/controls",
            "_model_module_version": "2.0.0",
            "_model_name": "DropdownModel",
            "_options_labels": [
              "Identidad",
              "Desenfoque",
              "Enfocar",
              "Detección de bordes",
              "Relieve"
            ],
            "_view_count": null,
            "_view_module": "@jupyter-widgets/controls",
            "_view_module_version": "2.0.0",
            "_view_name": "DropdownView",
            "description": "Filtro:",
            "description_allow_html": false,
            "disabled": false,
            "index": 3,
            "layout": "IPY_MODEL_bb492a5a7d924021a8d20a90752a42b8",
            "style": "IPY_MODEL_7b4dc881b4654d5dbb8e8bd09e1ff1a7",
            "tabbable": null,
            "tooltip": null
          }
        },
        "bb492a5a7d924021a8d20a90752a42b8": {
          "model_module": "@jupyter-widgets/base",
          "model_name": "LayoutModel",
          "model_module_version": "2.0.0",
          "state": {
            "_model_module": "@jupyter-widgets/base",
            "_model_module_version": "2.0.0",
            "_model_name": "LayoutModel",
            "_view_count": null,
            "_view_module": "@jupyter-widgets/base",
            "_view_module_version": "2.0.0",
            "_view_name": "LayoutView",
            "align_content": null,
            "align_items": null,
            "align_self": null,
            "border_bottom": null,
            "border_left": null,
            "border_right": null,
            "border_top": null,
            "bottom": null,
            "display": null,
            "flex": null,
            "flex_flow": null,
            "grid_area": null,
            "grid_auto_columns": null,
            "grid_auto_flow": null,
            "grid_auto_rows": null,
            "grid_column": null,
            "grid_gap": null,
            "grid_row": null,
            "grid_template_areas": null,
            "grid_template_columns": null,
            "grid_template_rows": null,
            "height": null,
            "justify_content": null,
            "justify_items": null,
            "left": null,
            "margin": null,
            "max_height": null,
            "max_width": null,
            "min_height": null,
            "min_width": null,
            "object_fit": null,
            "object_position": null,
            "order": null,
            "overflow": null,
            "padding": null,
            "right": null,
            "top": null,
            "visibility": null,
            "width": null
          }
        },
        "7b4dc881b4654d5dbb8e8bd09e1ff1a7": {
          "model_module": "@jupyter-widgets/controls",
          "model_name": "DescriptionStyleModel",
          "model_module_version": "2.0.0",
          "state": {
            "_model_module": "@jupyter-widgets/controls",
            "_model_module_version": "2.0.0",
            "_model_name": "DescriptionStyleModel",
            "_view_count": null,
            "_view_module": "@jupyter-widgets/base",
            "_view_module_version": "2.0.0",
            "_view_name": "StyleView",
            "description_width": ""
          }
        },
        "ba446717916f473a965544a16e731c39": {
          "model_module": "@jupyter-widgets/controls",
          "model_name": "FileUploadModel",
          "model_module_version": "2.0.0",
          "state": {
            "_dom_classes": [],
            "_model_module": "@jupyter-widgets/controls",
            "_model_module_version": "2.0.0",
            "_model_name": "FileUploadModel",
            "_view_count": null,
            "_view_module": "@jupyter-widgets/controls",
            "_view_module_version": "2.0.0",
            "_view_name": "FileUploadView",
            "accept": "image/*",
            "button_style": "",
            "description": "Upload",
            "description_allow_html": false,
            "disabled": false,
            "error": "",
            "icon": "upload",
            "layout": "IPY_MODEL_2ee2aa935b3c429697eb9aa74d5b285d",
            "multiple": false,
            "style": "IPY_MODEL_3bc03c65fc4542749aee03067d994e1e",
            "tabbable": null,
            "tooltip": null,
            "value": [],
            "_counter": 1,
            "metadata": [
              {
                "name": "filtros.png",
                "type": "image/png",
                "size": 777959,
                "lastModified": 1730252338501
              }
            ],
            "data": [
              null
            ]
          }
        },
        "2ee2aa935b3c429697eb9aa74d5b285d": {
          "model_module": "@jupyter-widgets/base",
          "model_name": "LayoutModel",
          "model_module_version": "2.0.0",
          "state": {
            "_model_module": "@jupyter-widgets/base",
            "_model_module_version": "2.0.0",
            "_model_name": "LayoutModel",
            "_view_count": null,
            "_view_module": "@jupyter-widgets/base",
            "_view_module_version": "2.0.0",
            "_view_name": "LayoutView",
            "align_content": null,
            "align_items": null,
            "align_self": null,
            "border_bottom": null,
            "border_left": null,
            "border_right": null,
            "border_top": null,
            "bottom": null,
            "display": null,
            "flex": null,
            "flex_flow": null,
            "grid_area": null,
            "grid_auto_columns": null,
            "grid_auto_flow": null,
            "grid_auto_rows": null,
            "grid_column": null,
            "grid_gap": null,
            "grid_row": null,
            "grid_template_areas": null,
            "grid_template_columns": null,
            "grid_template_rows": null,
            "height": null,
            "justify_content": null,
            "justify_items": null,
            "left": null,
            "margin": null,
            "max_height": null,
            "max_width": null,
            "min_height": null,
            "min_width": null,
            "object_fit": null,
            "object_position": null,
            "order": null,
            "overflow": null,
            "padding": null,
            "right": null,
            "top": null,
            "visibility": null,
            "width": null
          }
        },
        "3bc03c65fc4542749aee03067d994e1e": {
          "model_module": "@jupyter-widgets/controls",
          "model_name": "ButtonStyleModel",
          "model_module_version": "2.0.0",
          "state": {
            "_model_module": "@jupyter-widgets/controls",
            "_model_module_version": "2.0.0",
            "_model_name": "ButtonStyleModel",
            "_view_count": null,
            "_view_module": "@jupyter-widgets/base",
            "_view_module_version": "2.0.0",
            "_view_name": "StyleView",
            "button_color": null,
            "font_family": null,
            "font_size": null,
            "font_style": null,
            "font_variant": null,
            "font_weight": null,
            "text_color": null,
            "text_decoration": null
          }
        },
        "348ab76f974045888501fc8fce45f671": {
          "model_module": "@jupyter-widgets/controls",
          "model_name": "DropdownModel",
          "model_module_version": "2.0.0",
          "state": {
            "_dom_classes": [],
            "_model_module": "@jupyter-widgets/controls",
            "_model_module_version": "2.0.0",
            "_model_name": "DropdownModel",
            "_options_labels": [
              "Identidad",
              "Desenfoque",
              "Enfocar",
              "Detección de bordes",
              "Relieve"
            ],
            "_view_count": null,
            "_view_module": "@jupyter-widgets/controls",
            "_view_module_version": "2.0.0",
            "_view_name": "DropdownView",
            "description": "Filtro:",
            "description_allow_html": false,
            "disabled": false,
            "index": 2,
            "layout": "IPY_MODEL_4c7c394867c94244890229d07c77719f",
            "style": "IPY_MODEL_2b74ba5c859e463aa4e66282560646ca",
            "tabbable": null,
            "tooltip": null
          }
        },
        "4c7c394867c94244890229d07c77719f": {
          "model_module": "@jupyter-widgets/base",
          "model_name": "LayoutModel",
          "model_module_version": "2.0.0",
          "state": {
            "_model_module": "@jupyter-widgets/base",
            "_model_module_version": "2.0.0",
            "_model_name": "LayoutModel",
            "_view_count": null,
            "_view_module": "@jupyter-widgets/base",
            "_view_module_version": "2.0.0",
            "_view_name": "LayoutView",
            "align_content": null,
            "align_items": null,
            "align_self": null,
            "border_bottom": null,
            "border_left": null,
            "border_right": null,
            "border_top": null,
            "bottom": null,
            "display": null,
            "flex": null,
            "flex_flow": null,
            "grid_area": null,
            "grid_auto_columns": null,
            "grid_auto_flow": null,
            "grid_auto_rows": null,
            "grid_column": null,
            "grid_gap": null,
            "grid_row": null,
            "grid_template_areas": null,
            "grid_template_columns": null,
            "grid_template_rows": null,
            "height": null,
            "justify_content": null,
            "justify_items": null,
            "left": null,
            "margin": null,
            "max_height": null,
            "max_width": null,
            "min_height": null,
            "min_width": null,
            "object_fit": null,
            "object_position": null,
            "order": null,
            "overflow": null,
            "padding": null,
            "right": null,
            "top": null,
            "visibility": null,
            "width": null
          }
        },
        "2b74ba5c859e463aa4e66282560646ca": {
          "model_module": "@jupyter-widgets/controls",
          "model_name": "DescriptionStyleModel",
          "model_module_version": "2.0.0",
          "state": {
            "_model_module": "@jupyter-widgets/controls",
            "_model_module_version": "2.0.0",
            "_model_name": "DescriptionStyleModel",
            "_view_count": null,
            "_view_module": "@jupyter-widgets/base",
            "_view_module_version": "2.0.0",
            "_view_name": "StyleView",
            "description_width": ""
          }
        },
        "c2a8fea25af2474a92fcca6c3d207fa6": {
          "model_module": "@jupyter-widgets/controls",
          "model_name": "FileUploadModel",
          "model_module_version": "2.0.0",
          "state": {
            "_dom_classes": [],
            "_model_module": "@jupyter-widgets/controls",
            "_model_module_version": "2.0.0",
            "_model_name": "FileUploadModel",
            "_view_count": null,
            "_view_module": "@jupyter-widgets/controls",
            "_view_module_version": "2.0.0",
            "_view_name": "FileUploadView",
            "accept": "image/*",
            "button_style": "",
            "description": "Upload",
            "description_allow_html": false,
            "disabled": false,
            "error": "",
            "icon": "upload",
            "layout": "IPY_MODEL_dacc74cabe344e3a8d7d5ba5563bc499",
            "multiple": false,
            "style": "IPY_MODEL_550ea028102c417088aee85a061c332f",
            "tabbable": null,
            "tooltip": null,
            "value": [],
            "_counter": 1,
            "metadata": [
              {
                "name": "filtros.png",
                "type": "image/png",
                "size": 777959,
                "lastModified": 1730252338501
              }
            ],
            "data": [
              null
            ]
          }
        },
        "dacc74cabe344e3a8d7d5ba5563bc499": {
          "model_module": "@jupyter-widgets/base",
          "model_name": "LayoutModel",
          "model_module_version": "2.0.0",
          "state": {
            "_model_module": "@jupyter-widgets/base",
            "_model_module_version": "2.0.0",
            "_model_name": "LayoutModel",
            "_view_count": null,
            "_view_module": "@jupyter-widgets/base",
            "_view_module_version": "2.0.0",
            "_view_name": "LayoutView",
            "align_content": null,
            "align_items": null,
            "align_self": null,
            "border_bottom": null,
            "border_left": null,
            "border_right": null,
            "border_top": null,
            "bottom": null,
            "display": null,
            "flex": null,
            "flex_flow": null,
            "grid_area": null,
            "grid_auto_columns": null,
            "grid_auto_flow": null,
            "grid_auto_rows": null,
            "grid_column": null,
            "grid_gap": null,
            "grid_row": null,
            "grid_template_areas": null,
            "grid_template_columns": null,
            "grid_template_rows": null,
            "height": null,
            "justify_content": null,
            "justify_items": null,
            "left": null,
            "margin": null,
            "max_height": null,
            "max_width": null,
            "min_height": null,
            "min_width": null,
            "object_fit": null,
            "object_position": null,
            "order": null,
            "overflow": null,
            "padding": null,
            "right": null,
            "top": null,
            "visibility": null,
            "width": null
          }
        },
        "550ea028102c417088aee85a061c332f": {
          "model_module": "@jupyter-widgets/controls",
          "model_name": "ButtonStyleModel",
          "model_module_version": "2.0.0",
          "state": {
            "_model_module": "@jupyter-widgets/controls",
            "_model_module_version": "2.0.0",
            "_model_name": "ButtonStyleModel",
            "_view_count": null,
            "_view_module": "@jupyter-widgets/base",
            "_view_module_version": "2.0.0",
            "_view_name": "StyleView",
            "button_color": null,
            "font_family": null,
            "font_size": null,
            "font_style": null,
            "font_variant": null,
            "font_weight": null,
            "text_color": null,
            "text_decoration": null
          }
        },
        "b7832b0114df49b39c0d9bc2709bb1c5": {
          "model_module": "@jupyter-widgets/controls",
          "model_name": "DropdownModel",
          "model_module_version": "2.0.0",
          "state": {
            "_dom_classes": [],
            "_model_module": "@jupyter-widgets/controls",
            "_model_module_version": "2.0.0",
            "_model_name": "DropdownModel",
            "_options_labels": [
              "Identidad",
              "Desenfoque",
              "Enfocar",
              "Detección de bordes",
              "Relieve"
            ],
            "_view_count": null,
            "_view_module": "@jupyter-widgets/controls",
            "_view_module_version": "2.0.0",
            "_view_name": "DropdownView",
            "description": "Filtro:",
            "description_allow_html": false,
            "disabled": false,
            "index": 1,
            "layout": "IPY_MODEL_1fd9debdef80475e8271e84d38a8202a",
            "style": "IPY_MODEL_2e0466616b97482099e5a9e7886f3af8",
            "tabbable": null,
            "tooltip": null
          }
        },
        "1fd9debdef80475e8271e84d38a8202a": {
          "model_module": "@jupyter-widgets/base",
          "model_name": "LayoutModel",
          "model_module_version": "2.0.0",
          "state": {
            "_model_module": "@jupyter-widgets/base",
            "_model_module_version": "2.0.0",
            "_model_name": "LayoutModel",
            "_view_count": null,
            "_view_module": "@jupyter-widgets/base",
            "_view_module_version": "2.0.0",
            "_view_name": "LayoutView",
            "align_content": null,
            "align_items": null,
            "align_self": null,
            "border_bottom": null,
            "border_left": null,
            "border_right": null,
            "border_top": null,
            "bottom": null,
            "display": null,
            "flex": null,
            "flex_flow": null,
            "grid_area": null,
            "grid_auto_columns": null,
            "grid_auto_flow": null,
            "grid_auto_rows": null,
            "grid_column": null,
            "grid_gap": null,
            "grid_row": null,
            "grid_template_areas": null,
            "grid_template_columns": null,
            "grid_template_rows": null,
            "height": null,
            "justify_content": null,
            "justify_items": null,
            "left": null,
            "margin": null,
            "max_height": null,
            "max_width": null,
            "min_height": null,
            "min_width": null,
            "object_fit": null,
            "object_position": null,
            "order": null,
            "overflow": null,
            "padding": null,
            "right": null,
            "top": null,
            "visibility": null,
            "width": null
          }
        },
        "2e0466616b97482099e5a9e7886f3af8": {
          "model_module": "@jupyter-widgets/controls",
          "model_name": "DescriptionStyleModel",
          "model_module_version": "2.0.0",
          "state": {
            "_model_module": "@jupyter-widgets/controls",
            "_model_module_version": "2.0.0",
            "_model_name": "DescriptionStyleModel",
            "_view_count": null,
            "_view_module": "@jupyter-widgets/base",
            "_view_module_version": "2.0.0",
            "_view_name": "StyleView",
            "description_width": ""
          }
        },
        "4f813db4b8e64cd09e52e66ffd337fd4": {
          "model_module": "@jupyter-widgets/controls",
          "model_name": "FileUploadModel",
          "model_module_version": "2.0.0",
          "state": {
            "_dom_classes": [],
            "_model_module": "@jupyter-widgets/controls",
            "_model_module_version": "2.0.0",
            "_model_name": "FileUploadModel",
            "_view_count": null,
            "_view_module": "@jupyter-widgets/controls",
            "_view_module_version": "2.0.0",
            "_view_name": "FileUploadView",
            "accept": "image/*",
            "button_style": "",
            "description": "Upload",
            "description_allow_html": false,
            "disabled": false,
            "error": "",
            "icon": "upload",
            "layout": "IPY_MODEL_bb2638b8477e40e2b731e45a9a727921",
            "multiple": false,
            "style": "IPY_MODEL_08ddb207729d4b3d8c793bb38ec09c96",
            "tabbable": null,
            "tooltip": null,
            "value": [],
            "_counter": 1,
            "metadata": [
              {
                "name": "filtros.png",
                "type": "image/png",
                "size": 777959,
                "lastModified": 1730252338501
              }
            ],
            "data": [
              null
            ]
          }
        },
        "bb2638b8477e40e2b731e45a9a727921": {
          "model_module": "@jupyter-widgets/base",
          "model_name": "LayoutModel",
          "model_module_version": "2.0.0",
          "state": {
            "_model_module": "@jupyter-widgets/base",
            "_model_module_version": "2.0.0",
            "_model_name": "LayoutModel",
            "_view_count": null,
            "_view_module": "@jupyter-widgets/base",
            "_view_module_version": "2.0.0",
            "_view_name": "LayoutView",
            "align_content": null,
            "align_items": null,
            "align_self": null,
            "border_bottom": null,
            "border_left": null,
            "border_right": null,
            "border_top": null,
            "bottom": null,
            "display": null,
            "flex": null,
            "flex_flow": null,
            "grid_area": null,
            "grid_auto_columns": null,
            "grid_auto_flow": null,
            "grid_auto_rows": null,
            "grid_column": null,
            "grid_gap": null,
            "grid_row": null,
            "grid_template_areas": null,
            "grid_template_columns": null,
            "grid_template_rows": null,
            "height": null,
            "justify_content": null,
            "justify_items": null,
            "left": null,
            "margin": null,
            "max_height": null,
            "max_width": null,
            "min_height": null,
            "min_width": null,
            "object_fit": null,
            "object_position": null,
            "order": null,
            "overflow": null,
            "padding": null,
            "right": null,
            "top": null,
            "visibility": null,
            "width": null
          }
        },
        "08ddb207729d4b3d8c793bb38ec09c96": {
          "model_module": "@jupyter-widgets/controls",
          "model_name": "ButtonStyleModel",
          "model_module_version": "2.0.0",
          "state": {
            "_model_module": "@jupyter-widgets/controls",
            "_model_module_version": "2.0.0",
            "_model_name": "ButtonStyleModel",
            "_view_count": null,
            "_view_module": "@jupyter-widgets/base",
            "_view_module_version": "2.0.0",
            "_view_name": "StyleView",
            "button_color": null,
            "font_family": null,
            "font_size": null,
            "font_style": null,
            "font_variant": null,
            "font_weight": null,
            "text_color": null,
            "text_decoration": null
          }
        },
        "1f69ac9db4454572ab9c879b7be50094": {
          "model_module": "@jupyter-widgets/controls",
          "model_name": "DropdownModel",
          "model_module_version": "2.0.0",
          "state": {
            "_dom_classes": [],
            "_model_module": "@jupyter-widgets/controls",
            "_model_module_version": "2.0.0",
            "_model_name": "DropdownModel",
            "_options_labels": [
              "Identidad",
              "Desenfoque",
              "Enfocar",
              "Detección de bordes",
              "Relieve"
            ],
            "_view_count": null,
            "_view_module": "@jupyter-widgets/controls",
            "_view_module_version": "2.0.0",
            "_view_name": "DropdownView",
            "description": "Filtro:",
            "description_allow_html": false,
            "disabled": false,
            "index": 1,
            "layout": "IPY_MODEL_4a756d95e1dc4a2e83fd4997d92ed792",
            "style": "IPY_MODEL_3efad258442d4cdeb0d2e82c6d34c88e",
            "tabbable": null,
            "tooltip": null
          }
        },
        "4a756d95e1dc4a2e83fd4997d92ed792": {
          "model_module": "@jupyter-widgets/base",
          "model_name": "LayoutModel",
          "model_module_version": "2.0.0",
          "state": {
            "_model_module": "@jupyter-widgets/base",
            "_model_module_version": "2.0.0",
            "_model_name": "LayoutModel",
            "_view_count": null,
            "_view_module": "@jupyter-widgets/base",
            "_view_module_version": "2.0.0",
            "_view_name": "LayoutView",
            "align_content": null,
            "align_items": null,
            "align_self": null,
            "border_bottom": null,
            "border_left": null,
            "border_right": null,
            "border_top": null,
            "bottom": null,
            "display": null,
            "flex": null,
            "flex_flow": null,
            "grid_area": null,
            "grid_auto_columns": null,
            "grid_auto_flow": null,
            "grid_auto_rows": null,
            "grid_column": null,
            "grid_gap": null,
            "grid_row": null,
            "grid_template_areas": null,
            "grid_template_columns": null,
            "grid_template_rows": null,
            "height": null,
            "justify_content": null,
            "justify_items": null,
            "left": null,
            "margin": null,
            "max_height": null,
            "max_width": null,
            "min_height": null,
            "min_width": null,
            "object_fit": null,
            "object_position": null,
            "order": null,
            "overflow": null,
            "padding": null,
            "right": null,
            "top": null,
            "visibility": null,
            "width": null
          }
        },
        "3efad258442d4cdeb0d2e82c6d34c88e": {
          "model_module": "@jupyter-widgets/controls",
          "model_name": "DescriptionStyleModel",
          "model_module_version": "2.0.0",
          "state": {
            "_model_module": "@jupyter-widgets/controls",
            "_model_module_version": "2.0.0",
            "_model_name": "DescriptionStyleModel",
            "_view_count": null,
            "_view_module": "@jupyter-widgets/base",
            "_view_module_version": "2.0.0",
            "_view_name": "StyleView",
            "description_width": ""
          }
        }
      }
    }
  },
  "cells": [
    {
      "cell_type": "code",
      "source": [
        "from google.colab import drive\n",
        "drive.mount('/content/drive')\n",
        "\n",
        "import cv2\n",
        "import numpy as np\n",
        "import ipywidgets as widgets\n",
        "from IPython.display import display, clear_output\n",
        "from google.colab.patches import cv2_imshow\n",
        "import os\n",
        "\n",
        "# ... (funciones cargar_imagen, detectar_cabeza, colocar_cabeza_en_esquinas, aplicar_convolucion y kernels igual que antes) ...\n",
        "\n",
        "# Widget para subir la imagen\n",
        "image_upload = widgets.FileUpload(accept='image/*', multiple=False)\n",
        "\n",
        "# Widget para seleccionar el filtro (Dropdown)\n",
        "filter_dropdown = widgets.Dropdown(options=list(kernels.keys()), description='Filtro:')\n",
        "\n",
        "# Función para procesar y mostrar/guardar la imagen con los filtros\n",
        "def procesar_y_mostrar_imagen(change):\n",
        "    clear_output(wait=True)  # Limpiar la salida anterior\n",
        "\n",
        "    if image_upload.value:\n",
        "        img = cargar_imagen(image_upload.value)\n",
        "        head_img = detectar_cabeza(img)\n",
        "        img_with_head = colocar_cabeza_en_esquinas(img.copy(), head_img)\n",
        "\n",
        "        # Mostrar la imagen original\n",
        "        display(widgets.HTML('<h3>Imagen Original:</h3>'))\n",
        "        cv2_imshow(img_with_head)\n",
        "\n",
        "        # Mostrar y guardar la imagen con el filtro seleccionado\n",
        "        filtered_img = aplicar_convolucion(img_with_head.copy(), kernels[filter_dropdown.value])\n",
        "        display(widgets.HTML(f'<h3>{filter_dropdown.value}:</h3>'))\n",
        "        cv2_imshow(filtered_img)\n",
        "\n",
        "        # Guardar la imagen filtrada en Google Drive\n",
        "        nombre_archivo = f\"imagen_filtrada_{filter_dropdown.value}.jpg\"\n",
        "        ruta_guardar = os.path.join(\"/content/drive/My Drive/\", nombre_archivo)\n",
        "        cv2.imwrite(ruta_guardar, filtered_img)\n",
        "        print(f\"Imagen guardada en: {ruta_guardar}\")\n",
        "\n",
        "# Observar cambios en el widget de filtro\n",
        "filter_dropdown.observe(procesar_y_mostrar_imagen, names='value')\n",
        "\n",
        "# Observar cambios en el widget de subida de imagen\n",
        "def on_upload_change(change):\n",
        "    if image_upload.value:\n",
        "        procesar_y_mostrar_imagen(change)  # Procesar y mostrar al subir\n",
        "\n",
        "image_upload.observe(on_upload_change, names='value')\n",
        "\n",
        "# Mostrar widgets\n",
        "display(image_upload)\n",
        "display(filter_dropdown)"
      ],
      "metadata": {
        "colab": {
          "base_uri": "https://localhost:8080/",
          "height": 118,
          "referenced_widgets": [
            "ef9ce15e267246ffb8929ce38e8cbe5e",
            "11275763cc0842e7940977a84c0f78fb",
            "797fbf156d2748a2919c5937b1b8d21f",
            "2dd0c2a63b424706a1e969c2cb3aa1ef",
            "bb492a5a7d924021a8d20a90752a42b8",
            "7b4dc881b4654d5dbb8e8bd09e1ff1a7"
          ]
        },
        "id": "1CGdNCLCJXez",
        "outputId": "c0e2294a-fc7e-4320-8715-f138f4ca42c4"
      },
      "execution_count": null,
      "outputs": [
        {
          "output_type": "stream",
          "name": "stdout",
          "text": [
            "Drive already mounted at /content/drive; to attempt to forcibly remount, call drive.mount(\"/content/drive\", force_remount=True).\n"
          ]
        },
        {
          "output_type": "display_data",
          "data": {
            "text/plain": [
              "FileUpload(value=(), accept='image/*', description='Upload')"
            ],
            "application/vnd.jupyter.widget-view+json": {
              "version_major": 2,
              "version_minor": 0,
              "model_id": "ef9ce15e267246ffb8929ce38e8cbe5e"
            }
          },
          "metadata": {}
        },
        {
          "output_type": "display_data",
          "data": {
            "text/plain": [
              "Dropdown(description='Filtro:', options=('Identidad', 'Desenfoque', 'Enfocar', 'Detección de bordes', 'Relieve…"
            ],
            "application/vnd.jupyter.widget-view+json": {
              "version_major": 2,
              "version_minor": 0,
              "model_id": "2dd0c2a63b424706a1e969c2cb3aa1ef"
            }
          },
          "metadata": {}
        }
      ]
    },
    {
      "cell_type": "code",
      "source": [
        "print(procesar_y_mostrar_imagen)"
      ],
      "metadata": {
        "colab": {
          "base_uri": "https://localhost:8080/"
        },
        "id": "yzHPpn63Ll9A",
        "outputId": "d05861bb-7adf-4471-b66f-7673578f1800"
      },
      "execution_count": null,
      "outputs": [
        {
          "output_type": "stream",
          "name": "stdout",
          "text": [
            "<function procesar_y_mostrar_imagen at 0x7d5681397c70>\n"
          ]
        }
      ]
    },
    {
      "cell_type": "code",
      "source": [
        "from google.colab import drive\n",
        "drive.mount('/content/drive')\n",
        "\n",
        "import cv2\n",
        "import numpy as np\n",
        "import ipywidgets as widgets\n",
        "from IPython.display import display, clear_output, HTML\n",
        "from google.colab.patches import cv2_imshow\n",
        "import os\n",
        "\n",
        "# ... (funciones cargar_imagen, detectar_cabeza, colocar_cabeza_en_esquinas, aplicar_convolucion y kernels igual que antes) ...\n",
        "\n",
        "# Widget para subir la imagen\n",
        "image_upload = widgets.FileUpload(accept='image/*', multiple=False)\n",
        "\n",
        "# Widget para seleccionar el filtro (Dropdown)\n",
        "filter_dropdown = widgets.Dropdown(options=list(kernels.keys()), description='Filtro:')\n",
        "\n",
        "# Función para procesar y guardar la imagen con los filtros\n",
        "def procesar_y_guardar_imagen(change):\n",
        "    clear_output(wait=True)  # Limpiar la salida anterior\n",
        "\n",
        "    if image_upload.value:\n",
        "        img = cargar_imagen(image_upload.value)\n",
        "        head_img = detectar_cabeza(img)\n",
        "        img_with_head = colocar_cabeza_en_esquinas(img.copy(), head_img)\n",
        "\n",
        "        # Guardar la imagen original en Google Drive\n",
        "        nombre_archivo_original = \"imagen_original.jpg\"\n",
        "        ruta_guardar_original = os.path.join(\"/content/drive/My Drive/\", nombre_archivo_original)\n",
        "        cv2.imwrite(ruta_guardar_original, img_with_head)\n",
        "\n",
        "        # Guardar la imagen con el filtro seleccionado en Google Drive\n",
        "        filtered_img = aplicar_convolucion(img_with_head.copy(), kernels[filter_dropdown.value])\n",
        "        nombre_archivo_filtrada = f\"imagen_filtrada_{filter_dropdown.value}.jpg\"\n",
        "        ruta_guardar_filtrada = os.path.join(\"/content/drive/My Drive/\", nombre_archivo_filtrada)\n",
        "        cv2.imwrite(ruta_guardar_filtrada, filtered_img)\n",
        "\n",
        "        # Mostrar enlaces para descargar las imágenes\n",
        "        display(HTML(f'<h3>Imagen Original: <a href=\"/content/drive/My Drive/{nombre_archivo_original}\" target=\"_blank\">Descargar</a></h3>'))\n",
        "        display(HTML(f'<h3>{filter_dropdown.value}: <a href=\"/content/drive/My Drive/{nombre_archivo_filtrada}\" target=\"_blank\">Descargar</a></h3>'))\n",
        "\n",
        "# Observar cambios en el widget de filtro\n",
        "filter_dropdown.observe(procesar_y_guardar_imagen, names='value')\n",
        "\n",
        "# Observar cambios en el widget de subida de imagen\n",
        "def on_upload_change(change):\n",
        "    if image_upload.value:\n",
        "        procesar_y_guardar_imagen(change)  # Procesar y guardar al subir\n",
        "\n",
        "image_upload.observe(on_upload_change, names='value')\n",
        "\n",
        "# Mostrar widgets\n",
        "display(image_upload)\n",
        "display(filter_dropdown)"
      ],
      "metadata": {
        "colab": {
          "base_uri": "https://localhost:8080/",
          "height": 118,
          "referenced_widgets": [
            "ba446717916f473a965544a16e731c39",
            "2ee2aa935b3c429697eb9aa74d5b285d",
            "3bc03c65fc4542749aee03067d994e1e",
            "348ab76f974045888501fc8fce45f671",
            "4c7c394867c94244890229d07c77719f",
            "2b74ba5c859e463aa4e66282560646ca"
          ]
        },
        "id": "gx_3FqFPNPfk",
        "outputId": "bd14a853-4113-43cb-bcdd-a892ad75846d"
      },
      "execution_count": null,
      "outputs": [
        {
          "output_type": "stream",
          "name": "stdout",
          "text": [
            "Drive already mounted at /content/drive; to attempt to forcibly remount, call drive.mount(\"/content/drive\", force_remount=True).\n"
          ]
        },
        {
          "output_type": "display_data",
          "data": {
            "text/plain": [
              "FileUpload(value=(), accept='image/*', description='Upload')"
            ],
            "application/vnd.jupyter.widget-view+json": {
              "version_major": 2,
              "version_minor": 0,
              "model_id": "ba446717916f473a965544a16e731c39"
            }
          },
          "metadata": {}
        },
        {
          "output_type": "display_data",
          "data": {
            "text/plain": [
              "Dropdown(description='Filtro:', options=('Identidad', 'Desenfoque', 'Enfocar', 'Detección de bordes', 'Relieve…"
            ],
            "application/vnd.jupyter.widget-view+json": {
              "version_major": 2,
              "version_minor": 0,
              "model_id": "348ab76f974045888501fc8fce45f671"
            }
          },
          "metadata": {}
        }
      ]
    },
    {
      "cell_type": "code",
      "source": [
        "\n",
        "import cv2\n",
        "import numpy as np\n",
        "import ipywidgets as widgets\n",
        "from IPython.display import display, clear_output\n",
        "from google.colab.patches import cv2_imshow\n",
        "\n",
        "# ... (funciones cargar_imagen, detectar_cabeza, colocar_cabeza_en_esquinas, aplicar_convolucion y kernels igual que antes) ...\n",
        "\n",
        "# Widget para subir la imagen\n",
        "image_upload = widgets.FileUpload(accept='image/*', multiple=False)\n",
        "\n",
        "# Widget para seleccionar el filtro (Dropdown)\n",
        "filter_dropdown = widgets.Dropdown(options=list(kernels.keys()), description='Filtro:')\n",
        "\n",
        "# Función para procesar y mostrar la imagen con los filtros\n",
        "def procesar_y_mostrar_imagen(change):\n",
        "    clear_output(wait=True)  # Limpiar la salida anterior\n",
        "\n",
        "    if image_upload.value:\n",
        "        img = cargar_imagen(image_upload.value)\n",
        "        head_img = detectar_cabeza(img)\n",
        "        img_with_head = colocar_cabeza_en_esquinas(img.copy(), head_img)\n",
        "\n",
        "        # Mostrar la imagen original\n",
        "        display(widgets.HTML('<h3>Imagen Original:</h3>'))\n",
        "        cv2_imshow(img_with_head)  # Mostrar en la salida\n",
        "\n",
        "        # Mostrar la imagen con el filtro seleccionado\n",
        "        filtered_img = aplicar_convolucion(img_with_head.copy(), kernels[filter_dropdown.value])\n",
        "        display(widgets.HTML(f'<h3>{filter_dropdown.value}:</h3>'))\n",
        "        cv2_imshow(filtered_img)  # Mostrar en la salida\n",
        "\n",
        "# Observar cambios en el widget de filtro\n",
        "filter_dropdown.observe(procesar_y_mostrar_imagen, names='value')\n",
        "\n",
        "# Observar cambios en el widget de subida de imagen\n",
        "def on_upload_change(change):\n",
        "    if image_upload.value:\n",
        "        procesar_y_mostrar_imagen(change)  # Procesar y mostrar al subir\n",
        "\n",
        "image_upload.observe(on_upload_change, names='value')\n",
        "\n",
        "# Mostrar widgets\n",
        "display(image_upload)\n",
        "display(filter_dropdown)"
      ],
      "metadata": {
        "colab": {
          "base_uri": "https://localhost:8080/",
          "height": 81,
          "referenced_widgets": [
            "c2a8fea25af2474a92fcca6c3d207fa6",
            "dacc74cabe344e3a8d7d5ba5563bc499",
            "550ea028102c417088aee85a061c332f",
            "b7832b0114df49b39c0d9bc2709bb1c5",
            "1fd9debdef80475e8271e84d38a8202a",
            "2e0466616b97482099e5a9e7886f3af8"
          ]
        },
        "id": "MEK81wNLOU1a",
        "outputId": "e82d65c7-3734-4987-fa61-5cd4936b7950"
      },
      "execution_count": null,
      "outputs": [
        {
          "output_type": "display_data",
          "data": {
            "text/plain": [
              "FileUpload(value=(), accept='image/*', description='Upload')"
            ],
            "application/vnd.jupyter.widget-view+json": {
              "version_major": 2,
              "version_minor": 0,
              "model_id": "c2a8fea25af2474a92fcca6c3d207fa6"
            }
          },
          "metadata": {}
        },
        {
          "output_type": "display_data",
          "data": {
            "text/plain": [
              "Dropdown(description='Filtro:', options=('Identidad', 'Desenfoque', 'Enfocar', 'Detección de bordes', 'Relieve…"
            ],
            "application/vnd.jupyter.widget-view+json": {
              "version_major": 2,
              "version_minor": 0,
              "model_id": "b7832b0114df49b39c0d9bc2709bb1c5"
            }
          },
          "metadata": {}
        }
      ]
    },
    {
      "cell_type": "code",
      "source": [
        "\n",
        "import cv2\n",
        "import numpy as np\n",
        "import ipywidgets as widgets\n",
        "from IPython.display import display, clear_output, Image\n",
        "import io\n",
        "import PIL.Image\n",
        "\n",
        "# ... (funciones cargar_imagen, detectar_cabeza, colocar_cabeza_en_esquinas, aplicar_convolucion y kernels igual que antes) ...\n",
        "\n",
        "def mostrar_imagen(img):\n",
        "    \"\"\"Muestra la imagen usando IPython.display.Image.\"\"\"\n",
        "    img_rgb = cv2.cvtColor(img, cv2.COLOR_BGR2RGB) # Convertir a RGB para IPython.display.Image\n",
        "    img_pil = PIL.Image.fromarray(img_rgb)\n",
        "    with io.BytesIO() as buf:\n",
        "        img_pil.save(buf, format='JPEG')\n",
        "        display(Image(data=buf.getvalue()))\n",
        "\n",
        "# Widget para subir la imagen\n",
        "image_upload = widgets.FileUpload(accept='image/*', multiple=False)\n",
        "\n",
        "# Widget para seleccionar el filtro (Dropdown)\n",
        "filter_dropdown = widgets.Dropdown(options=list(kernels.keys()), description='Filtro:')\n",
        "\n",
        "# Función para procesar y mostrar la imagen con los filtros\n",
        "def procesar_y_mostrar_imagen(change):\n",
        "    clear_output(wait=True)  # Limpiar la salida anterior\n",
        "\n",
        "    if image_upload.value:\n",
        "        img = cargar_imagen(image_upload.value)\n",
        "        head_img = detectar_cabeza(img)\n",
        "        img_with_head = colocar_cabeza_en_esquinas(img.copy(), head_img)\n",
        "\n",
        "        # Mostrar la imagen original\n",
        "        display(widgets.HTML('<h3>Imagen Original:</h3>'))\n",
        "        mostrar_imagen(img_with_head)\n",
        "\n",
        "        # Mostrar la imagen con el filtro seleccionado\n",
        "        filtered_img = aplicar_convolucion(img_with_head.copy(), kernels[filter_dropdown.value])\n",
        "        display(widgets.HTML(f'<h3>{filter_dropdown.value}:</h3>'))\n",
        "        mostrar_imagen(filtered_img)\n",
        "\n",
        "# Observar cambios en el widget de filtro\n",
        "filter_dropdown.observe(procesar_y_mostrar_imagen, names='value')\n",
        "\n",
        "# Observar cambios en el widget de subida de imagen\n",
        "def on_upload_change(change):\n",
        "    if image_upload.value:\n",
        "        procesar_y_mostrar_imagen(change)  # Procesar y mostrar al subir\n",
        "\n",
        "image_upload.observe(on_upload_change, names='value')\n",
        "\n",
        "# Mostrar widgets\n",
        "display(image_upload)\n",
        "display(filter_dropdown)"
      ],
      "metadata": {
        "id": "tTw2OzSCOz-C",
        "outputId": "3f0ea3fd-7af6-4e72-930d-ee855f714fa9",
        "colab": {
          "base_uri": "https://localhost:8080/",
          "height": 81,
          "referenced_widgets": [
            "4f813db4b8e64cd09e52e66ffd337fd4",
            "bb2638b8477e40e2b731e45a9a727921",
            "08ddb207729d4b3d8c793bb38ec09c96",
            "1f69ac9db4454572ab9c879b7be50094",
            "4a756d95e1dc4a2e83fd4997d92ed792",
            "3efad258442d4cdeb0d2e82c6d34c88e"
          ]
        }
      },
      "execution_count": null,
      "outputs": [
        {
          "output_type": "display_data",
          "data": {
            "text/plain": [
              "FileUpload(value=(), accept='image/*', description='Upload')"
            ],
            "application/vnd.jupyter.widget-view+json": {
              "version_major": 2,
              "version_minor": 0,
              "model_id": "4f813db4b8e64cd09e52e66ffd337fd4"
            }
          },
          "metadata": {}
        },
        {
          "output_type": "display_data",
          "data": {
            "text/plain": [
              "Dropdown(description='Filtro:', options=('Identidad', 'Desenfoque', 'Enfocar', 'Detección de bordes', 'Relieve…"
            ],
            "application/vnd.jupyter.widget-view+json": {
              "version_major": 2,
              "version_minor": 0,
              "model_id": "1f69ac9db4454572ab9c879b7be50094"
            }
          },
          "metadata": {}
        }
      ]
    }
  ]
}