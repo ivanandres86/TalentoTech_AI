{
  "nbformat": 4,
  "nbformat_minor": 0,
  "metadata": {
    "colab": {
      "provenance": [],
      "authorship_tag": "ABX9TyOyFkMdDHy3MlL2VDhBVEkq",
      "include_colab_link": true
    },
    "kernelspec": {
      "name": "python3",
      "display_name": "Python 3"
    },
    "language_info": {
      "name": "python"
    }
  },
  "cells": [
    {
      "cell_type": "markdown",
      "metadata": {
        "id": "view-in-github",
        "colab_type": "text"
      },
      "source": [
        "<a href=\"https://colab.research.google.com/github/JoelByron/AI_Camp_TalentoTech/blob/main/notebooks/01_intro_to_python.ipynb\" target=\"_parent\"><img src=\"https://colab.research.google.com/assets/colab-badge.svg\" alt=\"Open In Colab\"/></a>"
      ]
    },
    {
      "cell_type": "markdown",
      "source": [
        "# **TAREA BASIC CALCULATOR**"
      ],
      "metadata": {
        "id": "w8Dbj5-TO1Eh"
      }
    },
    {
      "cell_type": "code",
      "execution_count": 1,
      "metadata": {
        "colab": {
          "base_uri": "https://localhost:8080/"
        },
        "id": "FOnw_gvnOimZ",
        "outputId": "e1823383-dc60-44c2-f21b-d905b0e59abc"
      },
      "outputs": [
        {
          "output_type": "stream",
          "name": "stdout",
          "text": [
            "Selecciona la operación que deseas realizar:\n",
            "1. Suma\n",
            "2. Resta\n",
            "3. Multiplicación\n",
            "4. División\n",
            "Introduce el número de la operación (1/2/3/4): 1\n",
            "Introduce el primer número: 2\n",
            "Introduce el segundo número: 2\n",
            "2.0 + 2.0 = 4.0\n"
          ]
        }
      ],
      "source": [
        "# Define calculator function\n",
        "def calculadora():\n",
        "    print(\"Selecciona la operación que deseas realizar:\")\n",
        "    print(\"1. Suma\")\n",
        "    print(\"2. Resta\")\n",
        "    print(\"3. Multiplicación\")\n",
        "    print(\"4. División\")\n",
        "\n",
        "\n",
        "# Prompt the user to choose an operation\n",
        "    operacion = input(\"Introduce el número de la operación (1/2/3/4): \")\n",
        "\n",
        "\n",
        "# Ask for the numbers\n",
        "    num1 = float(input(\"Introduce el primer número: \"))\n",
        "    num2 = float(input(\"Introduce el segundo número: \"))\n",
        "\n",
        "   # Perform the operation\n",
        "    if operacion == '1':\n",
        "        print(f\"{num1} + {num2} = {num1 + num2}\")\n",
        "    elif operacion == '2':\n",
        "        print(f\"{num1} - {num2} = {num1 - num2}\")\n",
        "    elif operacion == '3':\n",
        "        print(f\"{num1} * {num2} = {num1 * num2}\")\n",
        "    elif operacion == '4':\n",
        "        if num2 != 0:\n",
        "            print(f\"{num1} / {num2} = {num1 / num2}\")\n",
        "        else:\n",
        "            print(\"Error: División entre cero no permitida\")\n",
        "    else:\n",
        "        print(\"Operación no válida\")\n",
        "\n",
        "# Run the calculator\n",
        "calculadora()"
      ]
    },
    {
      "cell_type": "markdown",
      "source": [
        "# **TAREA JUEGO DE TRIVIA**"
      ],
      "metadata": {
        "id": "8f6JOxA9Oxiv"
      }
    },
    {
      "cell_type": "code",
      "source": [
        "# Juego de trivia simple\n",
        "\n",
        "puntos = 0\n",
        "\n",
        "# Bienvenida\n",
        "print(\"¡Bienvenido a la trivia de Python!\")\n",
        "print(\"Responde las siguientes preguntas. Cada respuesta correcta suma 1 punto.\\n\")\n",
        "\n",
        "# Pregunta 1\n",
        "print(\"1. ¿Cuál es el lenguaje que estás aprendiendo?\")\n",
        "print(\"a) Java\\nb) Python\\nc) C++\\nd) Ruby\")\n",
        "respuesta = input(\"Tu respuesta: \")\n",
        "\n",
        "if respuesta.lower() == \"b\":\n",
        "    print(\"¡Correcto!\\n\")\n",
        "    puntos += 1\n",
        "else:\n",
        "    print(\"Incorrecto. La respuesta es Python.\\n\")\n",
        "\n",
        "# Pregunta 2\n",
        "print(\"2. ¿Cuánto es 2 + 2?\")\n",
        "print(\"a) 3\\nb) 4\\nc) 5\\nd) 6\")\n",
        "respuesta = input(\"Tu respuesta: \")\n",
        "\n",
        "if respuesta.lower() == \"b\":\n",
        "    print(\"¡Correcto!\\n\")\n",
        "    puntos += 1\n",
        "else:\n",
        "    print(\"Incorrecto. La respuesta es 4.\\n\")\n",
        "\n",
        "# Pregunta 3\n",
        "print(\"3. ¿Qué lenguaje se usa para desarrollar sitios web?\")\n",
        "print(\"a) HTML\\nb) CSS\\nc) Python\\nd) JavaScript\")\n",
        "respuesta = input(\"Tu respuesta: \")\n",
        "\n",
        "if respuesta.lower() == \"d\":\n",
        "    print(\"¡Correcto!\\n\")\n",
        "    puntos += 1\n",
        "else:\n",
        "    print(\"Incorrecto. La respuesta es JavaScript.\\n\")\n",
        "\n",
        "# Pregunta 4\n",
        "print(\"4. ¿Qué es una variable?\")\n",
        "print(\"a) Un número fijo\\nb) Un lugar para almacenar datos\\nc) Un tipo de dato\\nd) Una función\")\n",
        "respuesta = input(\"Tu respuesta: \")\n",
        "\n",
        "if respuesta.lower() == \"b\":\n",
        "    print(\"¡Correcto!\\n\")\n",
        "    puntos += 1\n",
        "else:\n",
        "    print(\"Incorrecto. La respuesta es 'un lugar para almacenar datos'.\\n\")\n",
        "\n",
        "# Fin del juego\n",
        "print(\"¡Has terminado la trivia!\")\n",
        "print(f\"Tu puntaje final es: {puntos} de 4 puntos.\")\n",
        "\n",
        "# Comentarios sobre el desempeño\n",
        "if puntos == 4:\n",
        "    print(\"¡Excelente! ¡Sabes mucho sobre programación!\")\n",
        "elif 2 <= puntos < 4:\n",
        "    print(\"¡Bien hecho! Estás en buen camino.\")\n",
        "else:\n",
        "    print(\"Sigue practicando. ¡Puedes mejorar!\")"
      ],
      "metadata": {
        "colab": {
          "base_uri": "https://localhost:8080/"
        },
        "id": "U7yOdwJcOvBg",
        "outputId": "b2aa1296-aae2-471b-ece5-2a15f9959062"
      },
      "execution_count": 2,
      "outputs": [
        {
          "output_type": "stream",
          "name": "stdout",
          "text": [
            "¡Bienvenido a la trivia de Python!\n",
            "Responde las siguientes preguntas. Cada respuesta correcta suma 1 punto.\n",
            "\n",
            "1. ¿Cuál es el lenguaje que estás aprendiendo?\n",
            "a) Java\n",
            "b) Python\n",
            "c) C++\n",
            "d) Ruby\n",
            "Tu respuesta: a\n",
            "Incorrecto. La respuesta es Python.\n",
            "\n",
            "2. ¿Cuánto es 2 + 2?\n",
            "a) 3\n",
            "b) 4\n",
            "c) 5\n",
            "d) 6\n",
            "Tu respuesta: b\n",
            "¡Correcto!\n",
            "\n",
            "3. ¿Qué lenguaje se usa para desarrollar sitios web?\n",
            "a) HTML\n",
            "b) CSS\n",
            "c) Python\n",
            "d) JavaScript\n",
            "Tu respuesta: a\n",
            "Incorrecto. La respuesta es JavaScript.\n",
            "\n",
            "4. ¿Qué es una variable?\n",
            "a) Un número fijo\n",
            "b) Un lugar para almacenar datos\n",
            "c) Un tipo de dato\n",
            "d) Una función\n",
            "Tu respuesta: a\n",
            "Incorrecto. La respuesta es 'un lugar para almacenar datos'.\n",
            "\n",
            "¡Has terminado la trivia!\n",
            "Tu puntaje final es: 1 de 4 puntos.\n",
            "Sigue practicando. ¡Puedes mejorar!\n"
          ]
        }
      ]
    },
    {
      "cell_type": "markdown",
      "source": [
        "# **TAREA FUNCIÓN SALUDO - HORA**"
      ],
      "metadata": {
        "id": "a-pL5LRCO_qG"
      }
    },
    {
      "cell_type": "code",
      "source": [
        "def funcionsaludo(hora, minutos):\n",
        "    try:\n",
        "        if 0 <= hora < 24 and 0 <= minutos < 60:\n",
        "            if 6 <= hora < 12:\n",
        "                saludo = \"Buenos días\"\n",
        "            elif 12 <= hora < 18:\n",
        "                saludo = \"Buenas tardes\"\n",
        "            elif 18 <= hora <= 23:\n",
        "                saludo = \"Buenas noches\"\n",
        "        else:\n",
        "            saludo = \"La hora o los minutos digitados no son válidos.\"\n",
        "\n",
        "        return saludo\n",
        "    except ValueError:\n",
        "        return \"ingresa números válidos para la hora y los minutos.\"\n",
        "\n",
        "hora = int(input(\"Ingresa la hora en formato 24 horas (0-23): \"))\n",
        "minutos = int(input(\"Ingresa los minutos (0-59): \"))\n",
        "\n",
        "print(funcionsaludo(hora, minutos))"
      ],
      "metadata": {
        "colab": {
          "base_uri": "https://localhost:8080/"
        },
        "id": "YGe4Q3O_O-HP",
        "outputId": "319e0a3f-202d-4bdb-add8-08af44641a65"
      },
      "execution_count": 3,
      "outputs": [
        {
          "output_type": "stream",
          "name": "stdout",
          "text": [
            "Ingresa la hora en formato 24 horas (0-23): 12\n",
            "Ingresa los minutos (0-59): 15\n",
            "Buenas tardes\n"
          ]
        }
      ]
    },
    {
      "cell_type": "markdown",
      "source": [],
      "metadata": {
        "id": "biT4X3nGO8tH"
      }
    }
  ]
}