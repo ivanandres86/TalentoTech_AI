{
  "nbformat": 4,
  "nbformat_minor": 0,
  "metadata": {
    "colab": {
      "provenance": []
    },
    "kernelspec": {
      "name": "python3",
      "display_name": "Python 3"
    },
    "language_info": {
      "name": "python"
    }
  },
  "cells": [
    {
      "cell_type": "code",
      "source": [
        "import pandas as pd\n",
        "from sklearn.model_selection import train_test_split\n",
        "from sklearn.linear_model import LinearRegression\n",
        "from sklearn.metrics import mean_squared_error\n",
        "import seaborn as sns\n",
        "\n",
        "# 1. Cargar el conjunto de datos (reemplaza 'advertising.csv' con la ruta de tu archivo si es diferente)\n",
        "data = pd.read_csv('/content/Advertising.csv')\n",
        "\n",
        "# 2. Preprocesar los datos (ajusta según tu conjunto de datos)\n",
        "# Ejemplo: eliminar filas con valores faltantes en la columna 'Sales'\n",
        "data = data.dropna(subset=['Sales'])\n",
        "\n",
        "# 3. Dividir los datos en conjuntos de entrenamiento y prueba\n",
        "# Se asumen 'TV', 'Radio' y 'Newspaper' como características predictoras\n",
        "X = data[['TV', 'Radio', 'Newspaper']]\n",
        "y = data['Sales']  # La variable objetivo es 'Sales'\n",
        "\n",
        "X_train, X_test, y_train, y_test = train_test_split(X, y, test_size=0.2, random_state=42)\n",
        "\n",
        "# 4. Entrenar el modelo de Regresión Lineal\n",
        "model = LinearRegression()\n",
        "model.fit(X_train, y_train)\n",
        "\n",
        "# 5. Evaluar el modelo\n",
        "y_pred = model.predict(X_test)\n",
        "rmse = mean_squared_error(y_test, y_pred, squared=False)\n",
        "print('RMSE:', rmse)\n",
        "\n",
        "# 6. Hacer predicciones (reemplaza con los valores de las características para la predicción)\n",
        "new_data = pd.DataFrame({'TV': [100], 'Radio': [20], 'Newspaper': [30]})\n",
        "prediction = model.predict(new_data)\n",
        "print('Predicción:', prediction)"
      ],
      "metadata": {
        "colab": {
          "base_uri": "https://localhost:8080/"
        },
        "id": "hPYFCi-7vzaI",
        "outputId": "b5ccdaff-0cca-4049-e5d5-d0a07d40d3fb"
      },
      "execution_count": 6,
      "outputs": [
        {
          "output_type": "stream",
          "name": "stdout",
          "text": [
            "RMSE: 1.78159966153345\n",
            "Predicción: [11.3187536]\n"
          ]
        },
        {
          "output_type": "stream",
          "name": "stderr",
          "text": [
            "/usr/local/lib/python3.10/dist-packages/sklearn/metrics/_regression.py:492: FutureWarning: 'squared' is deprecated in version 1.4 and will be removed in 1.6. To calculate the root mean squared error, use the function'root_mean_squared_error'.\n",
            "  warnings.warn(\n"
          ]
        }
      ]
    }
  ]
}