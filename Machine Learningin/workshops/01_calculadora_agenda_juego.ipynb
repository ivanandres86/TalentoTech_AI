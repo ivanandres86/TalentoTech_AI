{
  "nbformat": 4,
  "nbformat_minor": 0,
  "metadata": {
    "colab": {
      "provenance": []
    },
    "kernelspec": {
      "name": "python3",
      "display_name": "Python 3"
    },
    "language_info": {
      "name": "python"
    }
  },
  "cells": [
    {
      "cell_type": "markdown",
      "source": [
        "# Calculadora **avanzada**"
      ],
      "metadata": {
        "id": "CggImnCUQU34"
      }
    },
    {
      "cell_type": "code",
      "source": [
        "from IPython.display import display, HTML  # Importa las funciones display y HTML para mostrar el resultado.\n",
        "\n",
        "def calculadora():  # Define la función calculadora.\n",
        "    \"\"\"\n",
        "\n",
        "    \"\"\"\n",
        "    print(\"Selecciona la operación que deseas realizar:\")  # Imprime un mensaje pidiendo al usuario que seleccione la operación.\n",
        "    print(\"1. Suma (+)\")  # Imprime la opción de suma.\n",
        "    print(\"2. Resta (-)\")  # Imprime la opción de resta.\n",
        "    print(\"3. Multiplicación (*)\")  # Imprime la opción de multiplicación.\n",
        "    print(\"4. División (/)\")  # Imprime la opción de división.\n",
        "\n",
        "    while True:  # Inicia un bucle infinito.\n",
        "        try:  # Intenta ejecutar el siguiente bloque de código.\n",
        "            operacion = input(\"Introduce el símbolo de la operación (+, -, *, /): \")  # Solicita al usuario que introduzca el símbolo de la operación.\n",
        "            if operacion not in ('+', '-', '*', '/'):  # Verifica si la operación es válida.\n",
        "                raise ValueError(\"Operación inválida. Por favor, ingresa +, -, *, o /.\")  # Lanza una excepción si la operación no es válida.\n",
        "            break  # Sale del bucle si la operación es válida.\n",
        "        except ValueError as e:  # Captura la excepción ValueError si se produce.\n",
        "            print(e)  # Imprime el mensaje de error.\n",
        "\n",
        "    while True:  # Inicia un bucle infinito.\n",
        "        try:  # Intenta ejecutar el siguiente bloque de código.\n",
        "            num1 = float(input(\"Introduce el primer número: \"))  # Solicita al usuario que introduzca el primer número.\n",
        "            num2 = float(input(\"Introduce el segundo número: \"))  # Solicita al usuario que introduzca el segundo número.\n",
        "            break  # Sale del bucle si los números son válidos.\n",
        "        except ValueError:  # Captura la excepción ValueError si se produce.\n",
        "            print(\"Entrada inválida. Por favor, ingresa números.\")  # Imprime un mensaje de error si la entrada no es válida.\n",
        "\n",
        "    if operacion == '+':  # Verifica si la operación es suma.\n",
        "        resultado = num1 + num2  # Realiza la suma.\n",
        "    elif operacion == '-':  # Verifica si la operación es resta.\n",
        "        resultado = num1 - num2  # Realiza la resta.\n",
        "    elif operacion == '*':  # Verifica si la operación es multiplicación.\n",
        "        resultado = num1 * num2  # Realiza la multiplicación.\n",
        "    elif operacion == '/':  # Verifica si la operación es división.\n",
        "        if num2 != 0:  # Verifica si el segundo número es diferente de cero.\n",
        "            resultado = num1 / num2  # Realiza la división.\n",
        "        else:  # Si el segundo número es cero.\n",
        "            display(HTML('<p style=\"font-size:20px; color:red; background-color:black;\">Error: División entre cero no permitida</p>'))  # Muestra un mensaje de error.\n",
        "            return  # Sale de la función.\n",
        "\n",
        "    display(HTML(f'<p style=\"font-size:20px; color:red; background-color:black;\">{num1} {operacion} {num2} = {resultado}</p>')) # Muestra el resultado."
      ],
      "metadata": {
        "id": "v_dWVYXRSTui"
      },
      "execution_count": 11,
      "outputs": []
    },
    {
      "cell_type": "markdown",
      "source": [
        "# **BASIC CALCULATOR**"
      ],
      "metadata": {
        "id": "w8Dbj5-TO1Eh"
      }
    },
    {
      "cell_type": "code",
      "execution_count": 1,
      "metadata": {
        "colab": {
          "base_uri": "https://localhost:8080/"
        },
        "id": "FOnw_gvnOimZ",
        "outputId": "6aa4ce35-6e0a-429a-c012-624d52a1bd13"
      },
      "outputs": [
        {
          "output_type": "stream",
          "name": "stdout",
          "text": [
            "Selecciona la operación que deseas realizar:\n",
            "1. Suma\n",
            "2. Resta\n",
            "3. Multiplicación\n",
            "4. División\n",
            "Introduce el número de la operación (1/2/3/4): 1\n",
            "Introduce el primer número: 2\n",
            "Introduce el segundo número: 3\n",
            "2.0 + 3.0 = 5.0\n"
          ]
        }
      ],
      "source": [
        "# Define calculator function\n",
        "def calculadora():\n",
        "    print(\"Selecciona la operación que deseas realizar:\")\n",
        "    print(\"1. Suma\")\n",
        "    print(\"2. Resta\")\n",
        "    print(\"3. Multiplicación\")\n",
        "    print(\"4. División\")\n",
        "\n",
        "\n",
        "# Prompt the user to choose an operation\n",
        "    operacion = input(\"Introduce el número de la operación (1/2/3/4): \")\n",
        "\n",
        "\n",
        "# Ask for the numbers\n",
        "    num1 = float(input(\"Introduce el primer número: \"))\n",
        "    num2 = float(input(\"Introduce el segundo número: \"))\n",
        "\n",
        "   # Perform the operation\n",
        "    if operacion == '1':\n",
        "        print(f\"{num1} + {num2} = {num1 + num2}\")\n",
        "    elif operacion == '2':\n",
        "        print(f\"{num1} - {num2} = {num1 - num2}\")\n",
        "    elif operacion == '3':\n",
        "        print(f\"{num1} * {num2} = {num1 * num2}\")\n",
        "    elif operacion == '4':\n",
        "        if num2 != 0:\n",
        "            print(f\"{num1} / {num2} = {num1 / num2}\")\n",
        "        else:\n",
        "            print(\"Error: División entre cero no permitida\")\n",
        "    else:\n",
        "        print(\"Operación no válida\")\n",
        "\n",
        "# Run the calculator\n",
        "calculadora()"
      ]
    },
    {
      "cell_type": "code",
      "source": [],
      "metadata": {
        "id": "C31nuqkmQHcP"
      },
      "execution_count": null,
      "outputs": []
    },
    {
      "cell_type": "markdown",
      "source": [
        "*texto en cursiva*# **JUEGO DE TRIVIA**"
      ],
      "metadata": {
        "id": "8f6JOxA9Oxiv"
      }
    },
    {
      "cell_type": "code",
      "source": [
        "# Juego de trivia simple\n",
        "\n",
        "puntos = 0\n",
        "\n",
        "# Bienvenida\n",
        "print(\"¡Bienvenido a la trivia de Python!\")\n",
        "print(\"Responde las siguientes preguntas. Cada respuesta correcta suma 1 punto.\\n\")\n",
        "\n",
        "# Pregunta 1\n",
        "print(\"1. ¿Cuál es el lenguaje que estás aprendiendo?\")\n",
        "print(\"a) Java\\nb) Python\\nc) C++\\nd) Ruby\")\n",
        "respuesta = input(\"Tu respuesta: \")\n",
        "\n",
        "if respuesta.lower() == \"b\":\n",
        "    print(\"¡Correcto!\\n\")\n",
        "    puntos += 1\n",
        "else:\n",
        "    print(\"Incorrecto. La respuesta es Python.\\n\")\n",
        "\n",
        "# Pregunta 2\n",
        "print(\"2. ¿Cuánto es 2 + 2?\")\n",
        "print(\"a) 3\\nb) 4\\nc) 5\\nd) 6\")\n",
        "respuesta = input(\"Tu respuesta: \")\n",
        "\n",
        "if respuesta.lower() == \"b\":\n",
        "    print(\"¡Correcto!\\n\")\n",
        "    puntos += 1\n",
        "else:\n",
        "    print(\"Incorrecto. La respuesta es 4.\\n\")\n",
        "\n",
        "# Pregunta 3\n",
        "print(\"3. ¿Qué lenguaje se usa para desarrollar sitios web?\")\n",
        "print(\"a) HTML\\nb) CSS\\nc) Python\\nd) JavaScript\")\n",
        "respuesta = input(\"Tu respuesta: \")\n",
        "\n",
        "if respuesta.lower() == \"d\":\n",
        "    print(\"¡Correcto!\\n\")\n",
        "    puntos += 1\n",
        "else:\n",
        "    print(\"Incorrecto. La respuesta es JavaScript.\\n\")\n",
        "\n",
        "# Pregunta 4\n",
        "print(\"4. ¿Qué es una variable?\")\n",
        "print(\"a) Un número fijo\\nb) Un lugar para almacenar datos\\nc) Un tipo de dato\\nd) Una función\")\n",
        "respuesta = input(\"Tu respuesta: \")\n",
        "\n",
        "if respuesta.lower() == \"b\":\n",
        "    print(\"¡Correcto!\\n\")\n",
        "    puntos += 1\n",
        "else:\n",
        "    print(\"Incorrecto. La respuesta es 'un lugar para almacenar datos'.\\n\")\n",
        "\n",
        "# Fin del juego\n",
        "print(\"¡Has terminado la trivia!\")\n",
        "print(f\"Tu puntaje final es: {puntos} de 4 puntos.\")\n",
        "\n",
        "# Comentarios sobre el desempeño\n",
        "if puntos == 4:\n",
        "    print(\"¡Excelente! ¡Sabes mucho sobre programación!\")\n",
        "elif 2 <= puntos < 4:\n",
        "    print(\"¡Bien hecho! Estás en buen camino.\")\n",
        "else:\n",
        "    print(\"Sigue practicando. ¡Puedes mejorar!\")"
      ],
      "metadata": {
        "colab": {
          "base_uri": "https://localhost:8080/"
        },
        "id": "U7yOdwJcOvBg",
        "outputId": "b2aa1296-aae2-471b-ece5-2a15f9959062"
      },
      "execution_count": null,
      "outputs": [
        {
          "output_type": "stream",
          "name": "stdout",
          "text": [
            "¡Bienvenido a la trivia de Python!\n",
            "Responde las siguientes preguntas. Cada respuesta correcta suma 1 punto.\n",
            "\n",
            "1. ¿Cuál es el lenguaje que estás aprendiendo?\n",
            "a) Java\n",
            "b) Python\n",
            "c) C++\n",
            "d) Ruby\n",
            "Tu respuesta: a\n",
            "Incorrecto. La respuesta es Python.\n",
            "\n",
            "2. ¿Cuánto es 2 + 2?\n",
            "a) 3\n",
            "b) 4\n",
            "c) 5\n",
            "d) 6\n",
            "Tu respuesta: b\n",
            "¡Correcto!\n",
            "\n",
            "3. ¿Qué lenguaje se usa para desarrollar sitios web?\n",
            "a) HTML\n",
            "b) CSS\n",
            "c) Python\n",
            "d) JavaScript\n",
            "Tu respuesta: a\n",
            "Incorrecto. La respuesta es JavaScript.\n",
            "\n",
            "4. ¿Qué es una variable?\n",
            "a) Un número fijo\n",
            "b) Un lugar para almacenar datos\n",
            "c) Un tipo de dato\n",
            "d) Una función\n",
            "Tu respuesta: a\n",
            "Incorrecto. La respuesta es 'un lugar para almacenar datos'.\n",
            "\n",
            "¡Has terminado la trivia!\n",
            "Tu puntaje final es: 1 de 4 puntos.\n",
            "Sigue practicando. ¡Puedes mejorar!\n"
          ]
        }
      ]
    },
    {
      "cell_type": "markdown",
      "source": [
        "# **FUNCIÓN SALUDO - HORA**"
      ],
      "metadata": {
        "id": "a-pL5LRCO_qG"
      }
    },
    {
      "cell_type": "code",
      "source": [
        "def funcionsaludo(hora, minutos):\n",
        "    try:\n",
        "        if 0 <= hora < 24 and 0 <= minutos < 60:\n",
        "            if 6 <= hora < 12:\n",
        "                saludo = \"Buenos días\"\n",
        "            elif 12 <= hora < 18:\n",
        "                saludo = \"Buenas tardes\"\n",
        "            elif 18 <= hora <= 23:\n",
        "                saludo = \"Buenas noches\"\n",
        "        else:\n",
        "            saludo = \"La hora o los minutos digitados no son válidos.\"\n",
        "\n",
        "        return saludo\n",
        "    except ValueError:\n",
        "        return \"ingresa números válidos para la hora y los minutos.\"\n",
        "\n",
        "hora = int(input(\"Ingresa la hora en formato 24 horas (0-23): \"))\n",
        "minutos = int(input(\"Ingresa los minutos (0-59): \"))\n",
        "\n",
        "print(funcionsaludo(hora, minutos))"
      ],
      "metadata": {
        "colab": {
          "base_uri": "https://localhost:8080/"
        },
        "id": "YGe4Q3O_O-HP",
        "outputId": "319e0a3f-202d-4bdb-add8-08af44641a65"
      },
      "execution_count": null,
      "outputs": [
        {
          "output_type": "stream",
          "name": "stdout",
          "text": [
            "Ingresa la hora en formato 24 horas (0-23): 12\n",
            "Ingresa los minutos (0-59): 15\n",
            "Buenas tardes\n"
          ]
        }
      ]
    },
    {
      "cell_type": "markdown",
      "source": [],
      "metadata": {
        "id": "biT4X3nGO8tH"
      }
    },
    {
      "cell_type": "code",
      "source": [
        "!pip install colored==1.4.4"
      ],
      "metadata": {
        "colab": {
          "base_uri": "https://localhost:8080/"
        },
        "id": "taOkJTHrUXeX",
        "outputId": "91a6ed1f-cf8d-4123-da8a-b963a3ac40c8"
      },
      "execution_count": 16,
      "outputs": [
        {
          "output_type": "stream",
          "name": "stdout",
          "text": [
            "Collecting colored==1.4.4\n",
            "  Downloading colored-1.4.4.tar.gz (36 kB)\n",
            "  Preparing metadata (setup.py) ... \u001b[?25l\u001b[?25hdone\n",
            "Building wheels for collected packages: colored\n",
            "  Building wheel for colored (setup.py) ... \u001b[?25l\u001b[?25hdone\n",
            "  Created wheel for colored: filename=colored-1.4.4-py3-none-any.whl size=14252 sha256=ad2a66c189736efb99caf6cad7fd104a764e4ca01c34ca94696a07e64810a1ad\n",
            "  Stored in directory: /root/.cache/pip/wheels/e7/c3/07/fabb0941ff5df7a487d43a67081273045536cc96d4d0e816b4\n",
            "Successfully built colored\n",
            "Installing collected packages: colored\n",
            "Successfully installed colored-1.4.4\n"
          ]
        }
      ]
    },
    {
      "cell_type": "markdown",
      "source": [
        "# Agenda de la **semana**"
      ],
      "metadata": {
        "id": "-fRmncKTVD7J"
      }
    },
    {
      "cell_type": "code",
      "source": [
        "import datetime\n",
        "import calendar\n",
        "from colored import fg, bg, attr\n",
        "\n",
        "def crear_agenda():\n",
        "    agenda = {}\n",
        "    for dia in [\"Lunes\", \"Martes\", \"Miércoles\", \"Jueves\", \"Viernes\", \"Sábado\", \"Domingo\"]:\n",
        "        agenda[dia] = []\n",
        "\n",
        "    while True:\n",
        "        dia = input(\"Ingresa el día de la semana (o escribe 'salir' para terminar): \").capitalize()\n",
        "        if dia == \"Salir\":\n",
        "            break\n",
        "        if dia not in agenda:\n",
        "            print(\"Día inválido. Intenta de nuevo.\")\n",
        "            continue\n",
        "\n",
        "        while True:\n",
        "          try:\n",
        "            hora = input(\"Ingresa la hora (formato HH:MM, ejemplo 10:30): \")\n",
        "            hora_obj = datetime.datetime.strptime(hora, \"%H:%M\").time()\n",
        "            break\n",
        "          except ValueError:\n",
        "              print(\"Formato de hora incorrecto. Usa HH:MM\")\n",
        "              continue\n",
        "\n",
        "        actividad = input(\"Ingresa la actividad: \")\n",
        "        agenda[dia].append((hora_obj, actividad))\n",
        "\n",
        "    return agenda\n",
        "\n",
        "\n",
        "def color_text(text, color):\n",
        "  # Available colors: red, green, blue, yellow, magenta, cyan, white, black\n",
        "  return fg(color) + text + attr('reset')\n",
        "\n",
        "def mostrar_agenda(agenda):\n",
        "  dias_semana = list(calendar.day_name)  # Get days of the week names\n",
        "\n",
        "  print(color_text(\"Calendario Semanal\", \"blue\"))\n",
        "  print(\"-\" * 20)\n",
        "\n",
        "  for dia in dias_semana:\n",
        "    if dia in agenda:\n",
        "      actividades = agenda[dia]\n",
        "      print(f\"\\n{color_text(dia, 'green')}\")  # Day in green\n",
        "      if actividades:\n",
        "        for hora, actividad in actividades:\n",
        "          print(f\"  {hora.strftime('%H:%M')} - {color_text(actividad, 'yellow')}\")  # Activity in yellow\n",
        "      else:\n",
        "        print(\"  No hay actividades programadas para este día.\")\n",
        "    else:\n",
        "      # If the day is not in the agenda (empty), display it in gray\n",
        "      print(f\"\\n{color_text(dia, 'gray')}\")\n",
        "      print(\"  No hay actividades programadas para este día.\")\n",
        "  # Available colors: red, green, blue, yellow, magenta, cyan, white, black\n",
        "  return fg(color) + text + attr('reset')\n",
        "\n",
        "def mostrar_agenda(agenda):\n",
        "  dias_semana = list(calendar.day_name)  # Get days of the week names\n",
        "\n",
        "  print(color_text(\"Calendario Semanal\", \"blue\"))\n",
        "  print(\"-\" * 20)\n",
        "\n",
        "  for dia in dias_semana:\n",
        "    if dia in agenda:\n",
        "      actividades = agenda[dia]\n",
        "      print(f\"\\n{color_text(dia, 'green')}\")  # Day in green\n",
        "      if actividades:\n",
        "        for hora, actividad in actividades:\n",
        "          print(f\"  {hora.strftime('%H:%M')} - {color_text(actividad, 'yellow')}\")  # Activity in yellow\n",
        "      else:\n",
        "        print(\"  No hay actividades programadas para este día.\")\n",
        "    else:\n",
        "      # If the day is not in the agenda (empty), display it in gray\n",
        "      print(f\"\\n{color_text(dia, 'gray')}\")\n",
        "      print(\"  No hay actividades programadas para este día.\")"
      ],
      "metadata": {
        "id": "cml-Yek5S41B"
      },
      "execution_count": 24,
      "outputs": []
    }
  ]
}